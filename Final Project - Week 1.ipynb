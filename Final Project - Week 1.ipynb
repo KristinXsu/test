{
    "cells": [
        {
            "cell_type": "markdown",
            "metadata": {
                "collapsed": true
            },
            "source": "## Final Project Week 1"
        },
        {
            "cell_type": "markdown",
            "metadata": {},
            "source": "#### A description of the problem and a discussion of the background.\n"
        },
        {
            "cell_type": "markdown",
            "metadata": {},
            "source": "For this project, I will build a few machine learning models to predict the severity of an accident. In the real world, it happens frequently that people drive to another city for work or to visit some friends. It is rainy and windy, and on the way, people come across a terrible traffic jam on the other side of the highway. Long lines of cars barely moving. Police cars start appearing from afar shutting down the highway while you are driving. In an effort to reduce the frequency of car collisions in a community, an algorithm must be developed to predict the severity of an accident given the current weather, road and visibility conditions. When conditions are bad, this model will alert drivers to remind them to be more careful.\n\n"
        },
        {
            "cell_type": "markdown",
            "metadata": {},
            "source": "#### A description of the data and how it will be used to solve the problem.\n\n"
        },
        {
            "cell_type": "markdown",
            "metadata": {},
            "source": "Our dependent variable (target) will be 'SEVERITYCODE' in the dataset. It is used measure the severity of an accident from 0 to 5 within the dataset. Attributes used to weigh the severity of an accident are 'WEATHER', 'ROADCOND' and 'LIGHTCOND'."
        }
    ],
    "metadata": {
        "kernelspec": {
            "display_name": "Python 3.6",
            "language": "python",
            "name": "python3"
        },
        "language_info": {
            "codemirror_mode": {
                "name": "ipython",
                "version": 3
            },
            "file_extension": ".py",
            "mimetype": "text/x-python",
            "name": "python",
            "nbconvert_exporter": "python",
            "pygments_lexer": "ipython3",
            "version": "3.6.9"
        }
    },
    "nbformat": 4,
    "nbformat_minor": 1
}